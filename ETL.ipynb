{
 "cells": [
  {
   "cell_type": "code",
   "execution_count": 2,
   "metadata": {},
   "outputs": [
    {
     "data": {
      "text/plain": [
       "1207404841"
      ]
     },
     "execution_count": 2,
     "metadata": {},
     "output_type": "execute_result"
    }
   ],
   "source": [
    "import requests as rq\n",
    "\n",
    "url = 'https://presupuestoabierto.gob.cl/data/pagos.gz'\n",
    "r = rq.get(url)\n",
    "\n",
    "open('pagos.gz', 'wb').write(r.content)"
   ]
  },
  {
   "cell_type": "code",
   "execution_count": 3,
   "metadata": {},
   "outputs": [],
   "source": [
    "import gzip, shutil\n",
    "\n",
    "with gzip.open('pagos.gz', 'r') as f_in, open('pagos.csv', 'wb') as f_out:\n",
    "  shutil.copyfileobj(f_in, f_out)"
   ]
  },
  {
   "cell_type": "code",
   "execution_count": 4,
   "metadata": {},
   "outputs": [
    {
     "name": "stderr",
     "output_type": "stream",
     "text": [
      "C:\\ProgramData\\Anaconda3\\lib\\site-packages\\IPython\\core\\interactiveshell.py:3165: DtypeWarning: Columns (6,10,11,12,13,14,15,16,17,18,26,33,35,36,37,39,41,43) have mixed types.Specify dtype option on import or set low_memory=False.\n",
      "  has_raised = await self.run_ast_nodes(code_ast.body, cell_name,\n"
     ]
    }
   ],
   "source": [
    "import pandas as pd\n",
    "df = pd.read_csv('pagos.csv', sep='\\t')"
   ]
  },
  {
   "cell_type": "code",
   "execution_count": null,
   "metadata": {
    "tags": []
   },
   "outputs": [],
   "source": [
    "#Imports necesarios\n",
    "import time #librería necesaria para medir el tiempo de ejecución \n",
    "import datetime\n",
    "import pandas as pd\n",
    "import numpy as np\n",
    "from functools import reduce\n",
    "import urllib.request\n",
    "import json\n",
    "\n",
    "# Creamos los dataframes vacios para almacenar los valores de UTM y Fechas\n",
    "dolarDiarioDF = pd.DataFrame(columns=['Fecha', 'Dolar'])\n",
    "CLFDiarioDF = pd.DataFrame(columns=['Fecha', 'CLF'])\n",
    "euroDiarioDF = pd.DataFrame(columns=['Fecha', 'Euro'])\n",
    "utmDF = pd.DataFrame(columns=['Fecha', 'UTM'])\n",
    "ipcDF = pd.DataFrame(columns=['Fecha', 'IPC'])\n",
    "\n",
    "# Generamos el ciclo para recorrer los años y leer desde la API los datos de UTM\n",
    "for i in range(2008, 2021):\n",
    "    with urllib.request.urlopen(\"https://mindicador.cl/api/dolar/\"+str(i)) as url:\n",
    "        dolar = json.loads(url.read().decode())\n",
    "    \n",
    "    with urllib.request.urlopen(\"https://mindicador.cl/api/uf/\"+str(i)) as url:\n",
    "        uf = json.loads(url.read().decode())\n",
    "    \n",
    "    with urllib.request.urlopen(\"https://mindicador.cl/api/euro/\"+str(i)) as url:\n",
    "        euro = json.loads(url.read().decode())\n",
    "    \n",
    "    with urllib.request.urlopen(\"https://mindicador.cl/api/utm/\"+str(i)) as url:\n",
    "        utm = json.loads(url.read().decode())\n",
    "        \n",
    "    with urllib.request.urlopen(\"https://mindicador.cl/api/ipc/\"+str(i)) as url:\n",
    "        ipc = json.loads(url.read().decode())\n",
    "    \n",
    "    # Generamos los ciclos en que se añaden los dataframes los valores obtenidos desde la API    \n",
    "    for x in range(len(dolar['serie'])):\n",
    "        dolarDiarioDF = dolarDiarioDF.append({'Fecha' : dolar['serie'][x]['fecha'][0:7] , 'Dolar' : dolar['serie'][x]['valor']} , ignore_index=True) \n",
    "    \n",
    "    for x in range(len(uf['serie'])):\n",
    "        CLFDiarioDF = CLFDiarioDF.append({'Fecha' : uf['serie'][x]['fecha'][0:7] , 'CLF' : uf['serie'][x]['valor']} , ignore_index=True)\n",
    "    \n",
    "    for x in range(len(euro['serie'])):\n",
    "        euroDiarioDF = euroDiarioDF.append({'Fecha' : euro['serie'][x]['fecha'][0:7] , 'Euro' : euro['serie'][x]['valor']} , ignore_index=True)\n",
    "    \n",
    "    for x in range(len(utm['serie'])):\n",
    "        utmDF = utmDF.append({'Fecha' : utm['serie'][x]['fecha'][0:7] , 'UTM' : utm['serie'][x]['valor']} , ignore_index=True)\n",
    "        \n",
    "    for x in range(len(ipc['serie'])):\n",
    "        ipcDF = ipcDF.append({'Fecha' : ipc['serie'][x]['fecha'][0:7] , 'IPC' : ipc['serie'][x]['valor']} , ignore_index=True)\n",
    "\n",
    "\n",
    "# Agrupamos por promedio para efectos prácticos\n",
    "dolarDF = dolarDiarioDF.groupby(['Fecha'])[['Dolar']].mean()\n",
    "CLFDF = CLFDiarioDF.groupby(['Fecha'])[['CLF']].mean()\n",
    "euroDF = euroDiarioDF.groupby(['Fecha'])[['Euro']].mean()\n",
    "\n",
    "# Unimos los dataframes y lo guardamos en uno nuevo\n",
    "monedas = reduce(lambda x,y: pd.merge(x,y, on='Fecha', how='left'), [dolarDF, CLFDF, euroDF, utmDF, ipcDF])\n",
    "\n",
    "# calculamos el IPC en términos de su valor en índice\n",
    "monedas['IPC'] = monedas['IPC'].fillna(0)\n",
    "monedas['ipcIndices'] = 0.0\n",
    "for index, row in monedas.iterrows():\n",
    "    if index == 0:\n",
    "        monedas['ipcIndices'][index] =  72.0007284469403   \n",
    "    else:\n",
    "        monedas['ipcIndices'][index] = monedas['ipcIndices'][index - 1] + monedas['IPC'][index] * monedas['ipcIndices'][index - 1] / 100\n",
    "\n",
    "# en base al valor índice calculamos los factores de corrección y limpiamos el dataframe\n",
    "monedas['factorIPC'] = 0.0\n",
    "for index, row in monedas.iterrows():\n",
    "    monedas['factorIPC'][index] = monedas['ipcIndices'][len(monedas)-1] / monedas['ipcIndices'][index]\n",
    "    \n",
    "monedas = monedas.drop(columns = ['IPC'])\n",
    "#elimación de datos de IPC innecesarios\n",
    "monedas = monedas.drop(columns = {'ipcIndices'})"
   ]
  },
  {
   "cell_type": "code",
   "execution_count": 9,
   "metadata": {},
   "outputs": [],
   "source": [
    "pd.set_option('display.max_rows', 500)\n",
    "pd.set_option('display.max_columns', 500)\n",
    "pd.set_option('display.width', 1000)"
   ]
  },
  {
   "cell_type": "code",
   "execution_count": 10,
   "metadata": {},
   "outputs": [],
   "source": [
    "#creación del campo mes como \"numero\" para hacer merge con monedas\n",
    "df.loc[df['mes']==1, 'mesN'] = '01'\n",
    "df.loc[df['mes']==2, 'mesN'] = '02'\n",
    "df.loc[df['mes']==3, 'mesN'] = '03'\n",
    "df.loc[df['mes']==4, 'mesN'] = '04'\n",
    "df.loc[df['mes']==5, 'mesN'] = '05'\n",
    "df.loc[df['mes']==6, 'mesN'] = '06'\n",
    "df.loc[df['mes']==7, 'mesN'] = '07'\n",
    "df.loc[df['mes']==8, 'mesN'] = '08'\n",
    "df.loc[df['mes']==9, 'mesN'] = '09'\n",
    "df.loc[df['mes']==10, 'mesN'] = '10'\n",
    "df.loc[df['mes']==11, 'mesN'] = '11'\n",
    "df.loc[df['mes']==12, 'mesN'] = '12'"
   ]
  },
  {
   "cell_type": "code",
   "execution_count": 11,
   "metadata": {},
   "outputs": [],
   "source": [
    "#creación del campo año mes para fusionar con monedas\n",
    "df['Fecha'] = df['periodo'].astype(str) + '-' + df['mesN']"
   ]
  },
  {
   "cell_type": "code",
   "execution_count": 12,
   "metadata": {},
   "outputs": [],
   "source": [
    "# merge con monedas\n",
    "df = df.merge(monedas, how = 'left', left_on = 'Fecha', right_on = 'Fecha')"
   ]
  },
  {
   "cell_type": "code",
   "execution_count": 13,
   "metadata": {},
   "outputs": [],
   "source": [
    "# Calculo de devengo en pesos reales\n",
    "df['DevengoReal'] = df['devengo']\n",
    "df.loc[df['moneda']=='PESOS', 'DevengoReal'] = df['devengo'] * df['factorIPC']\n",
    "df.loc[df['moneda']=='DOLARES', 'DevengoReal'] = df['devengo'] * df['factorIPC']"
   ]
  },
  {
   "cell_type": "code",
   "execution_count": 14,
   "metadata": {},
   "outputs": [],
   "source": [
    "df['fecha_documento'] = pd.to_datetime(df['fecha_documento'], errors='coerce')\n",
    "df['fecha_ingreso'] = pd.to_datetime(df['fecha_ingreso'], errors='coerce')\n",
    "df['fecha_recepcion_conforme'] = pd.to_datetime(df['fecha_recepcion_conforme'], errors='coerce')\n",
    "df['fecha_pago'] = pd.to_datetime(df['fecha_pago'], errors='coerce')\n",
    "df['fecha_pago'] = pd.to_datetime(df['fecha_pago'], errors='coerce')\n",
    "df['DevengoReal'] = round(df['DevengoReal']).astype('Int64')"
   ]
  },
  {
   "cell_type": "code",
   "execution_count": 26,
   "metadata": {},
   "outputs": [
    {
     "data": {
      "text/plain": [
       "Index(['periodo', 'mes', 'partida', 'nombre_partida', 'capitulo', 'nombre_capitulo', 'area', 'nombre_area', 'subtitulo', 'nombre_subtitulo', 'beneficiario', 'nombre_beneficiario', 'numero_documento', 'fecha_documento', 'tipo_documento', 'orden_de_compra', 'fecha_ingreso', 'fecha_recepcion_conforme', 'fecha_pago', 'moneda', 'monto_original', 'monto', 'devengo_original', 'devengo', 'honorario', 'proveedor', 'sector', 'region', 'agregado', 'persona', 'intraestado', 'bloqueo_oc', 'item', 'nombre_item', 'asignacion', 'nombre_asignacion', 'codigo_bip', 'nombre_bip', 'codigo_ubicacion_geografica', 'nombre_ubicacion_geografica', 'codigo_programa_presupuestario', 'nombre_programa_presupuestario', 'dias_de_pago', 'dias_de_pago_cat', 'deuda_flotante', 'mesN', 'Fecha', 'Dolar', 'CLF', 'Euro', 'UTM', 'factorIPC', 'DevengoReal'], dtype='object')"
      ]
     },
     "execution_count": 26,
     "metadata": {},
     "output_type": "execute_result"
    }
   ],
   "source": [
    "df.keys()"
   ]
  },
  {
   "cell_type": "code",
   "execution_count": 16,
   "metadata": {},
   "outputs": [],
   "source": [
    "df2 = df[df['periodo']<=2020]"
   ]
  },
  {
   "cell_type": "code",
   "execution_count": 18,
   "metadata": {},
   "outputs": [],
   "source": [
    "df2.to_csv('df_2020.csv', sep=';')"
   ]
  }
 ],
 "metadata": {
  "kernelspec": {
   "display_name": "Python 3",
   "language": "python",
   "name": "python3"
  },
  "language_info": {
   "codemirror_mode": {
    "name": "ipython",
    "version": 3
   },
   "file_extension": ".py",
   "mimetype": "text/x-python",
   "name": "python",
   "nbconvert_exporter": "python",
   "pygments_lexer": "ipython3",
   "version": "3.8.8"
  }
 },
 "nbformat": 4,
 "nbformat_minor": 4
}
